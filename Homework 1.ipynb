{
 "cells": [
  {
   "cell_type": "code",
   "execution_count": 1,
   "id": "3f41a5b6-7d78-4cdd-a848-c0d0f9f4f6ee",
   "metadata": {},
   "outputs": [],
   "source": [
    "#github: https://github.com/aaltaay1/Machine-Learning-4105\n",
    "\n",
    "#Homework 1\n",
    "#Name : Abrar Altaay\n",
    "#ID: 801166376"
   ]
  },
  {
   "cell_type": "code",
   "execution_count": null,
   "id": "b921ffa4-7459-441c-81aa-4befa410d449",
   "metadata": {},
   "outputs": [],
   "source": [
    "import numpy as np\n",
    "import pandas as pd\n",
    "\n",
    "# Data Visualisation\n",
    "import matplotlib.pyplot as plt\n",
    "import seaborn as sns"
   ]
  },
  {
   "cell_type": "code",
   "execution_count": 2,
   "id": "3bff9c1e-bf5b-439f-b3fa-5d4963fa3b8d",
   "metadata": {
    "scrolled": true
   },
   "outputs": [
    {
     "data": {
      "text/html": [
       "<div>\n",
       "<style scoped>\n",
       "    .dataframe tbody tr th:only-of-type {\n",
       "        vertical-align: middle;\n",
       "    }\n",
       "\n",
       "    .dataframe tbody tr th {\n",
       "        vertical-align: top;\n",
       "    }\n",
       "\n",
       "    .dataframe thead th {\n",
       "        text-align: right;\n",
       "    }\n",
       "</style>\n",
       "<table border=\"1\" class=\"dataframe\">\n",
       "  <thead>\n",
       "    <tr style=\"text-align: right;\">\n",
       "      <th></th>\n",
       "      <th>price</th>\n",
       "      <th>area</th>\n",
       "      <th>bedrooms</th>\n",
       "      <th>bathrooms</th>\n",
       "      <th>stories</th>\n",
       "      <th>mainroad</th>\n",
       "      <th>guestroom</th>\n",
       "      <th>basement</th>\n",
       "      <th>hotwaterheating</th>\n",
       "      <th>airconditioning</th>\n",
       "      <th>parking</th>\n",
       "      <th>prefarea</th>\n",
       "      <th>furnishingstatus</th>\n",
       "    </tr>\n",
       "  </thead>\n",
       "  <tbody>\n",
       "    <tr>\n",
       "      <th>0</th>\n",
       "      <td>13300000</td>\n",
       "      <td>7420</td>\n",
       "      <td>4</td>\n",
       "      <td>2</td>\n",
       "      <td>3</td>\n",
       "      <td>yes</td>\n",
       "      <td>no</td>\n",
       "      <td>no</td>\n",
       "      <td>no</td>\n",
       "      <td>yes</td>\n",
       "      <td>2</td>\n",
       "      <td>yes</td>\n",
       "      <td>furnished</td>\n",
       "    </tr>\n",
       "    <tr>\n",
       "      <th>1</th>\n",
       "      <td>12250000</td>\n",
       "      <td>8960</td>\n",
       "      <td>4</td>\n",
       "      <td>4</td>\n",
       "      <td>4</td>\n",
       "      <td>yes</td>\n",
       "      <td>no</td>\n",
       "      <td>no</td>\n",
       "      <td>no</td>\n",
       "      <td>yes</td>\n",
       "      <td>3</td>\n",
       "      <td>no</td>\n",
       "      <td>furnished</td>\n",
       "    </tr>\n",
       "    <tr>\n",
       "      <th>2</th>\n",
       "      <td>12250000</td>\n",
       "      <td>9960</td>\n",
       "      <td>3</td>\n",
       "      <td>2</td>\n",
       "      <td>2</td>\n",
       "      <td>yes</td>\n",
       "      <td>no</td>\n",
       "      <td>yes</td>\n",
       "      <td>no</td>\n",
       "      <td>no</td>\n",
       "      <td>2</td>\n",
       "      <td>yes</td>\n",
       "      <td>semi-furnished</td>\n",
       "    </tr>\n",
       "    <tr>\n",
       "      <th>3</th>\n",
       "      <td>12215000</td>\n",
       "      <td>7500</td>\n",
       "      <td>4</td>\n",
       "      <td>2</td>\n",
       "      <td>2</td>\n",
       "      <td>yes</td>\n",
       "      <td>no</td>\n",
       "      <td>yes</td>\n",
       "      <td>no</td>\n",
       "      <td>yes</td>\n",
       "      <td>3</td>\n",
       "      <td>yes</td>\n",
       "      <td>furnished</td>\n",
       "    </tr>\n",
       "    <tr>\n",
       "      <th>4</th>\n",
       "      <td>11410000</td>\n",
       "      <td>7420</td>\n",
       "      <td>4</td>\n",
       "      <td>1</td>\n",
       "      <td>2</td>\n",
       "      <td>yes</td>\n",
       "      <td>yes</td>\n",
       "      <td>yes</td>\n",
       "      <td>no</td>\n",
       "      <td>yes</td>\n",
       "      <td>2</td>\n",
       "      <td>no</td>\n",
       "      <td>furnished</td>\n",
       "    </tr>\n",
       "  </tbody>\n",
       "</table>\n",
       "</div>"
      ],
      "text/plain": [
       "      price  area  bedrooms  bathrooms  stories mainroad guestroom basement  \\\n",
       "0  13300000  7420         4          2        3      yes        no       no   \n",
       "1  12250000  8960         4          4        4      yes        no       no   \n",
       "2  12250000  9960         3          2        2      yes        no      yes   \n",
       "3  12215000  7500         4          2        2      yes        no      yes   \n",
       "4  11410000  7420         4          1        2      yes       yes      yes   \n",
       "\n",
       "  hotwaterheating airconditioning  parking prefarea furnishingstatus  \n",
       "0              no             yes        2      yes        furnished  \n",
       "1              no             yes        3       no        furnished  \n",
       "2              no              no        2      yes   semi-furnished  \n",
       "3              no             yes        3      yes        furnished  \n",
       "4              no             yes        2       no        furnished  "
      ]
     },
     "execution_count": 2,
     "metadata": {},
     "output_type": "execute_result"
    }
   ],
   "source": [
    "housing = pd.DataFrame(pd.read_csv(\"P:\\STORAGE\\Downloads\\Housing.csv\"))\n",
    "housing.head()"
   ]
  },
  {
   "cell_type": "code",
   "execution_count": 3,
   "id": "ad5c7227-ecd1-43fc-a631-4f3b19f02679",
   "metadata": {},
   "outputs": [
    {
     "data": {
      "text/plain": [
       "545"
      ]
     },
     "execution_count": 3,
     "metadata": {},
     "output_type": "execute_result"
    }
   ],
   "source": [
    "m = len(housing)\n",
    "m"
   ]
  },
  {
   "cell_type": "code",
   "execution_count": 4,
   "id": "5a99f5b8-266b-4c7e-96bf-b7b2a5b00143",
   "metadata": {},
   "outputs": [
    {
     "data": {
      "text/plain": [
       "(545, 13)"
      ]
     },
     "execution_count": 4,
     "metadata": {},
     "output_type": "execute_result"
    }
   ],
   "source": [
    "housing.shape"
   ]
  },
  {
   "cell_type": "code",
   "execution_count": 5,
   "id": "1dc6ffe0-252d-48a4-8d8b-90cd4e217282",
   "metadata": {},
   "outputs": [
    {
     "name": "stdout",
     "output_type": "stream",
     "text": [
      "<class 'pandas.core.frame.DataFrame'>\n",
      "RangeIndex: 545 entries, 0 to 544\n",
      "Data columns (total 13 columns):\n",
      " #   Column            Non-Null Count  Dtype \n",
      "---  ------            --------------  ----- \n",
      " 0   price             545 non-null    int64 \n",
      " 1   area              545 non-null    int64 \n",
      " 2   bedrooms          545 non-null    int64 \n",
      " 3   bathrooms         545 non-null    int64 \n",
      " 4   stories           545 non-null    int64 \n",
      " 5   mainroad          545 non-null    object\n",
      " 6   guestroom         545 non-null    object\n",
      " 7   basement          545 non-null    object\n",
      " 8   hotwaterheating   545 non-null    object\n",
      " 9   airconditioning   545 non-null    object\n",
      " 10  parking           545 non-null    int64 \n",
      " 11  prefarea          545 non-null    object\n",
      " 12  furnishingstatus  545 non-null    object\n",
      "dtypes: int64(6), object(7)\n",
      "memory usage: 55.5+ KB\n"
     ]
    }
   ],
   "source": [
    "housing.info()"
   ]
  },
  {
   "cell_type": "code",
   "execution_count": 6,
   "id": "591e0b60-df8e-483d-85f3-35fb328d2ddb",
   "metadata": {},
   "outputs": [
    {
     "data": {
      "text/html": [
       "<div>\n",
       "<style scoped>\n",
       "    .dataframe tbody tr th:only-of-type {\n",
       "        vertical-align: middle;\n",
       "    }\n",
       "\n",
       "    .dataframe tbody tr th {\n",
       "        vertical-align: top;\n",
       "    }\n",
       "\n",
       "    .dataframe thead th {\n",
       "        text-align: right;\n",
       "    }\n",
       "</style>\n",
       "<table border=\"1\" class=\"dataframe\">\n",
       "  <thead>\n",
       "    <tr style=\"text-align: right;\">\n",
       "      <th></th>\n",
       "      <th>price</th>\n",
       "      <th>area</th>\n",
       "      <th>bedrooms</th>\n",
       "      <th>bathrooms</th>\n",
       "      <th>stories</th>\n",
       "      <th>mainroad</th>\n",
       "      <th>guestroom</th>\n",
       "      <th>basement</th>\n",
       "      <th>hotwaterheating</th>\n",
       "      <th>airconditioning</th>\n",
       "      <th>parking</th>\n",
       "      <th>prefarea</th>\n",
       "      <th>furnishingstatus</th>\n",
       "    </tr>\n",
       "  </thead>\n",
       "  <tbody>\n",
       "    <tr>\n",
       "      <th>0</th>\n",
       "      <td>13300000</td>\n",
       "      <td>7420</td>\n",
       "      <td>4</td>\n",
       "      <td>2</td>\n",
       "      <td>3</td>\n",
       "      <td>1</td>\n",
       "      <td>0</td>\n",
       "      <td>0</td>\n",
       "      <td>0</td>\n",
       "      <td>1</td>\n",
       "      <td>2</td>\n",
       "      <td>yes</td>\n",
       "      <td>2</td>\n",
       "    </tr>\n",
       "    <tr>\n",
       "      <th>1</th>\n",
       "      <td>12250000</td>\n",
       "      <td>8960</td>\n",
       "      <td>4</td>\n",
       "      <td>4</td>\n",
       "      <td>4</td>\n",
       "      <td>1</td>\n",
       "      <td>0</td>\n",
       "      <td>0</td>\n",
       "      <td>0</td>\n",
       "      <td>1</td>\n",
       "      <td>3</td>\n",
       "      <td>no</td>\n",
       "      <td>2</td>\n",
       "    </tr>\n",
       "    <tr>\n",
       "      <th>2</th>\n",
       "      <td>12250000</td>\n",
       "      <td>9960</td>\n",
       "      <td>3</td>\n",
       "      <td>2</td>\n",
       "      <td>2</td>\n",
       "      <td>1</td>\n",
       "      <td>0</td>\n",
       "      <td>1</td>\n",
       "      <td>0</td>\n",
       "      <td>0</td>\n",
       "      <td>2</td>\n",
       "      <td>yes</td>\n",
       "      <td>1</td>\n",
       "    </tr>\n",
       "    <tr>\n",
       "      <th>3</th>\n",
       "      <td>12215000</td>\n",
       "      <td>7500</td>\n",
       "      <td>4</td>\n",
       "      <td>2</td>\n",
       "      <td>2</td>\n",
       "      <td>1</td>\n",
       "      <td>0</td>\n",
       "      <td>1</td>\n",
       "      <td>0</td>\n",
       "      <td>1</td>\n",
       "      <td>3</td>\n",
       "      <td>yes</td>\n",
       "      <td>2</td>\n",
       "    </tr>\n",
       "    <tr>\n",
       "      <th>4</th>\n",
       "      <td>11410000</td>\n",
       "      <td>7420</td>\n",
       "      <td>4</td>\n",
       "      <td>1</td>\n",
       "      <td>2</td>\n",
       "      <td>1</td>\n",
       "      <td>1</td>\n",
       "      <td>1</td>\n",
       "      <td>0</td>\n",
       "      <td>1</td>\n",
       "      <td>2</td>\n",
       "      <td>no</td>\n",
       "      <td>2</td>\n",
       "    </tr>\n",
       "  </tbody>\n",
       "</table>\n",
       "</div>"
      ],
      "text/plain": [
       "      price  area  bedrooms  bathrooms  stories  mainroad  guestroom  \\\n",
       "0  13300000  7420         4          2        3         1          0   \n",
       "1  12250000  8960         4          4        4         1          0   \n",
       "2  12250000  9960         3          2        2         1          0   \n",
       "3  12215000  7500         4          2        2         1          0   \n",
       "4  11410000  7420         4          1        2         1          1   \n",
       "\n",
       "   basement  hotwaterheating  airconditioning  parking prefarea  \\\n",
       "0         0                0                1        2      yes   \n",
       "1         0                0                1        3       no   \n",
       "2         1                0                0        2      yes   \n",
       "3         1                0                1        3      yes   \n",
       "4         1                0                1        2       no   \n",
       "\n",
       "   furnishingstatus  \n",
       "0                 2  \n",
       "1                 2  \n",
       "2                 1  \n",
       "3                 2  \n",
       "4                 2  "
      ]
     },
     "execution_count": 6,
     "metadata": {},
     "output_type": "execute_result"
    }
   ],
   "source": [
    "# You can see that your dataset has many columns with values as 'Yes' or 'No'.\n",
    "# But in order to fit a regression line, we would need numerical values and not string.\n",
    "\n",
    "varlist = ['mainroad', 'guestroom', 'basement', 'hotwaterheating', 'airconditioning']\n",
    "\n",
    "# Defining the map function\n",
    "def binary_map(x):\n",
    "     return x.map({'yes': 1, \"no\": 0})\n",
    "def trinary_map(x): \n",
    "    return x.map({'furnished': 2, 'semi-furnished': 1, 'unfurnished': 0})\n",
    "\n",
    "# Applying the function to the housing list\n",
    "housing[varlist] = housing[varlist].apply(binary_map)\n",
    "varlist = ['furnishingstatus']\n",
    "housing[varlist] = housing[varlist].apply(trinary_map)\n",
    "\n",
    "# Check the housing dataframe now\n",
    "housing.head()"
   ]
  },
  {
   "cell_type": "code",
   "execution_count": 7,
   "id": "21cca74a-f99f-4a94-944f-4b3d9abc893d",
   "metadata": {},
   "outputs": [
    {
     "data": {
      "text/plain": [
       "(381, 13)"
      ]
     },
     "execution_count": 7,
     "metadata": {},
     "output_type": "execute_result"
    }
   ],
   "source": [
    "#Splitting the Data into Training and Testing Sets\n",
    "from sklearn.model_selection import train_test_split\n",
    "\n",
    "# We specify this so that the train and test data set always have the same rows, respec\n",
    "np.random.seed(0)\n",
    "df_train, df_test = train_test_split(housing, train_size = 0.7, test_size = 0.3, random_state = 0)\n",
    "df_train.shape\n",
    "\n",
    "#import random\n",
    "#df_train, df_test = train_test_split(housing, train_size = 0.7, test_size = 0.3, random_state = random.randint(0,100000))"
   ]
  },
  {
   "cell_type": "code",
   "execution_count": 8,
   "id": "eeb143c9",
   "metadata": {},
   "outputs": [],
   "source": [
    "def compute_cost(X,y,theta):\n",
    "    \n",
    "    predictions=X.dot(theta)\n",
    "    errors=np.subtract(predictions,y)\n",
    "    sqrErrors=np.square(errors)\n",
    "    J=1/(2*m)*np.sum(sqrErrors)\n",
    "    \n",
    "    return J"
   ]
  },
  {
   "cell_type": "code",
   "execution_count": 9,
   "id": "87158a2c",
   "metadata": {},
   "outputs": [],
   "source": [
    "def gradient_descent(X, y, theta, alpha, iterations, X2, y2):\n",
    "    \n",
    "    cost_history = np.zeros(iterations)\n",
    "    cost_history2 = np.zeros(iterations)\n",
    "    \n",
    "    for i in range(iterations):\n",
    "        predictions=X.dot(theta)\n",
    "        errors=np.subtract(predictions,y)\n",
    "        sum_delta=(alpha/m)*X.transpose().dot(errors);\n",
    "        theta=theta-sum_delta;\n",
    "        cost_history[i]=compute_cost(X,y,theta)\n",
    "        cost_history2[i] = compute_cost(X2, y2, theta)\n",
    "        \n",
    "    return theta,cost_history,cost_history2"
   ]
  },
  {
   "cell_type": "code",
   "execution_count": 10,
   "id": "4daf832c",
   "metadata": {},
   "outputs": [],
   "source": [
    "#Problem 1 part a"
   ]
  },
  {
   "cell_type": "code",
   "execution_count": 11,
   "id": "221af464",
   "metadata": {},
   "outputs": [],
   "source": [
    "X = df_train.values[:,(1,2,3,4,10)]\n",
    "m = len(df_train)\n",
    "X_0 = np.ones((m,1))\n",
    "X = np.hstack((X_0, X)) # values for probelm 1 \n",
    "\n",
    "price = df_train.values[:,0]\n",
    "\n",
    "X_f = df_test.values[:,(1,2,3,4,10)]\n",
    "m_f = len(df_test)\n",
    "X_0f = np.ones((m_f, 1))\n",
    "X_f = np.hstack((X_0f, X_f)) # testing values\n",
    "\n",
    "price_f = df_test.values[:,0]"
   ]
  },
  {
   "cell_type": "code",
   "execution_count": 12,
   "id": "51d6d823",
   "metadata": {},
   "outputs": [],
   "source": [
    "theta = [0. ,0. ,0. ,0. ,0. ,0.]\n",
    "iterations = 1500; \n",
    "#with such a small learning rat,e increasing the iterations \n",
    "#by an appricable amountcauses the gradient\n",
    "#desent to take a very long time. \n",
    "\n",
    "alpha = 0.00000001; #small learning rate becuase we have no normailziation or standardiztion\n"
   ]
  },
  {
   "cell_type": "code",
   "execution_count": 13,
   "id": "2425472d",
   "metadata": {},
   "outputs": [
    {
     "name": "stdout",
     "output_type": "stream",
     "text": [
      "Final value of theta =  [4.7404764855612465 880.9222051882871 19.299660613032255 11.03873487821995\n",
      " 16.443942896907423 4.12058594814528]\n",
      "Final Cost =  1651549081253.9287\n",
      "[2.96846119e+12 1.70855703e+12 1.12630914e+12 ... 7.56270389e+11\n",
      " 7.56270369e+11 7.56270349e+11]\n"
     ]
    }
   ],
   "source": [
    "theta, cost_history, cost_history2 = gradient_descent(X, price, theta, alpha, iterations, X_f, price_f)\n",
    "print ('Final value of theta = ', theta)\n",
    "print('Final Cost = ', cost_history[-1])\n",
    "print(cost_history2)"
   ]
  },
  {
   "cell_type": "code",
   "execution_count": 14,
   "id": "73e084c8",
   "metadata": {},
   "outputs": [
    {
     "data": {
      "text/plain": [
       "Text(0.5, 1.0, 'Convergence of gradient descent')"
      ]
     },
     "execution_count": 14,
     "metadata": {},
     "output_type": "execute_result"
    },
    {
     "data": {
      "image/png": "[encoded data removed]",
      "text/plain": [
       "<Figure size 432x288 with 1 Axes>"
      ]
     },
     "metadata": {
      "needs_background": "light"
     },
     "output_type": "display_data"
    }
   ],
   "source": [
    "plt.plot(range(1, iterations+1), cost_history, color='blue')\n",
    "plt.plot(range(1, iterations+1), cost_history2, color='green')\n",
    "plt.rcParams[\"figure.figsize\"] = (10,6)\n",
    "plt.grid()\n",
    "plt.xlabel('Number of iterations')\n",
    "plt.ylabel('Cost (J)')\n",
    "plt.title('Convergence of gradient descent')"
   ]
  },
  {
   "cell_type": "code",
   "execution_count": 15,
   "id": "d2c7fc00",
   "metadata": {},
   "outputs": [],
   "source": [
    "# Although this does converge it has a high cost which "
   ]
  },
  {
   "cell_type": "code",
   "execution_count": 16,
   "id": "67661790",
   "metadata": {},
   "outputs": [],
   "source": [
    "#Problem 1 Part B "
   ]
  },
  {
   "cell_type": "code",
   "execution_count": 17,
   "id": "34976b77",
   "metadata": {},
   "outputs": [],
   "source": [
    "X = df_train.values[:,(1,2,3,4,5,6,7,8,9,10)]\n",
    "X = np.hstack((X_0, X)) # Vlaues for problem 1 part B linear regression\n",
    "\n",
    "X_f = df_test.values[:,(1,2,3,4,5,6,7,8,9,10)]\n",
    "X_f = np.hstack((X_0f, X_f)) # Testing values for problem 1 part B linear reg. test"
   ]
  },
  {
   "cell_type": "code",
   "execution_count": 18,
   "id": "ea180a15",
   "metadata": {},
   "outputs": [],
   "source": [
    "#The most relevant parameter again apperas to be area"
   ]
  },
  {
   "cell_type": "code",
   "execution_count": 19,
   "id": "860c0c94",
   "metadata": {},
   "outputs": [],
   "source": [
    "theta = [0. ,0. ,0. ,0. ,0. ,0. ,0. ,0. ,0. ,0. ,0.]\n",
    "iterations = 1500;\n",
    "alpha = 0.0000000001;"
   ]
  },
  {
   "cell_type": "code",
   "execution_count": 20,
   "id": "2d4a6046",
   "metadata": {},
   "outputs": [
    {
     "name": "stdout",
     "output_type": "stream",
     "text": [
      "Final value of theta =  [0.19510722790337892 870.54216594764 0.6331839693477799 0.3032633145890587\n",
      " 0.43760681756734765 0.17532033927329432 0.051307599622021895\n",
      " 0.08970117719769505 0.01772569555171036 0.09939579800110454\n",
      " 0.16517801600239185]\n",
      "Final Cost =  [1.30508916e+13 1.29836171e+13 1.29167396e+13 ... 1.65321656e+12\n",
      " 1.65320701e+12 1.65319753e+12]\n"
     ]
    }
   ],
   "source": [
    "theta, cost_history, cost_history2 = gradient_descent(X, price, theta, alpha, iterations, X_f, price_f)\n",
    "print ('Final value of theta = ', theta)\n",
    "print('Final Cost = ', cost_history)"
   ]
  },
  {
   "cell_type": "code",
   "execution_count": 21,
   "id": "e63db54f",
   "metadata": {},
   "outputs": [
    {
     "data": {
      "text/plain": [
       "Text(0.5, 1.0, 'Convergence of gradient descent')"
      ]
     },
     "execution_count": 21,
     "metadata": {},
     "output_type": "execute_result"
    },
    {
     "data": {
      "image/png": "[encoded data removed]",
      "text/plain": [
       "<Figure size 720x432 with 1 Axes>"
      ]
     },
     "metadata": {
      "needs_background": "light"
     },
     "output_type": "display_data"
    }
   ],
   "source": [
    "plt.plot(range(1, iterations+1), cost_history, color='blue')\n",
    "plt.plot(range(1, iterations+1), cost_history2, color='green')\n",
    "plt.rcParams[\"figure.figsize\"] = (10,6)\n",
    "plt.grid()\n",
    "plt.xlabel('Number of iterations')\n",
    "plt.ylabel('Cost (J)')\n",
    "plt.title('Convergence of gradient descent')"
   ]
  },
  {
   "cell_type": "code",
   "execution_count": 22,
   "id": "cf1412ba",
   "metadata": {},
   "outputs": [],
   "source": [
    "# The final cost is still to larg"
   ]
  },
  {
   "cell_type": "code",
   "execution_count": 23,
   "id": "5ff53721",
   "metadata": {},
   "outputs": [],
   "source": [
    "# Number 2 part A"
   ]
  },
  {
   "cell_type": "code",
   "execution_count": 24,
   "id": "adf4c537",
   "metadata": {},
   "outputs": [],
   "source": [
    "# First normalization\n"
   ]
  },
  {
   "cell_type": "code",
   "execution_count": 25,
   "id": "d1291443",
   "metadata": {},
   "outputs": [
    {
     "data": {
      "text/html": [
       "<div>\n",
       "<style scoped>\n",
       "    .dataframe tbody tr th:only-of-type {\n",
       "        vertical-align: middle;\n",
       "    }\n",
       "\n",
       "    .dataframe tbody tr th {\n",
       "        vertical-align: top;\n",
       "    }\n",
       "\n",
       "    .dataframe thead th {\n",
       "        text-align: right;\n",
       "    }\n",
       "</style>\n",
       "<table border=\"1\" class=\"dataframe\">\n",
       "  <thead>\n",
       "    <tr style=\"text-align: right;\">\n",
       "      <th></th>\n",
       "      <th>area</th>\n",
       "      <th>bedrooms</th>\n",
       "      <th>bathrooms</th>\n",
       "      <th>stories</th>\n",
       "      <th>parking</th>\n",
       "      <th>price</th>\n",
       "    </tr>\n",
       "  </thead>\n",
       "  <tbody>\n",
       "    <tr>\n",
       "      <th>454</th>\n",
       "      <td>4500</td>\n",
       "      <td>3</td>\n",
       "      <td>1</td>\n",
       "      <td>2</td>\n",
       "      <td>0</td>\n",
       "      <td>3143000</td>\n",
       "    </tr>\n",
       "    <tr>\n",
       "      <th>392</th>\n",
       "      <td>3990</td>\n",
       "      <td>3</td>\n",
       "      <td>1</td>\n",
       "      <td>2</td>\n",
       "      <td>0</td>\n",
       "      <td>3500000</td>\n",
       "    </tr>\n",
       "    <tr>\n",
       "      <th>231</th>\n",
       "      <td>4320</td>\n",
       "      <td>3</td>\n",
       "      <td>1</td>\n",
       "      <td>1</td>\n",
       "      <td>0</td>\n",
       "      <td>4690000</td>\n",
       "    </tr>\n",
       "    <tr>\n",
       "      <th>271</th>\n",
       "      <td>1905</td>\n",
       "      <td>5</td>\n",
       "      <td>1</td>\n",
       "      <td>2</td>\n",
       "      <td>0</td>\n",
       "      <td>4340000</td>\n",
       "    </tr>\n",
       "    <tr>\n",
       "      <th>250</th>\n",
       "      <td>3510</td>\n",
       "      <td>3</td>\n",
       "      <td>1</td>\n",
       "      <td>3</td>\n",
       "      <td>0</td>\n",
       "      <td>4515000</td>\n",
       "    </tr>\n",
       "  </tbody>\n",
       "</table>\n",
       "</div>"
      ],
      "text/plain": [
       "     area  bedrooms  bathrooms  stories  parking    price\n",
       "454  4500         3          1        2        0  3143000\n",
       "392  3990         3          1        2        0  3500000\n",
       "231  4320         3          1        1        0  4690000\n",
       "271  1905         5          1        2        0  4340000\n",
       "250  3510         3          1        3        0  4515000"
      ]
     },
     "execution_count": 25,
     "metadata": {},
     "output_type": "execute_result"
    }
   ],
   "source": [
    "num_vars=['area','bedrooms','bathrooms','stories','parking','price']\n",
    "df_Newtrain=df_train[num_vars]\n",
    "df_Newtest=df_test[num_vars]\n",
    "\n",
    "df_Newtrain.head()"
   ]
  },
  {
   "cell_type": "code",
   "execution_count": 26,
   "id": "3edd99fc",
   "metadata": {},
   "outputs": [],
   "source": [
    "import warnings\n",
    "warnings.filterwarnings('ignore')\n",
    "from sklearn.preprocessing import MinMaxScaler, StandardScaler"
   ]
  },
  {
   "cell_type": "code",
   "execution_count": 27,
   "id": "0b7bebc2",
   "metadata": {},
   "outputs": [],
   "source": [
    "#define standard scaler for normalization\n",
    "scaler = MinMaxScaler()\n",
    "df_Newtrain[num_vars] = scaler.fit_transform(df_Newtrain[num_vars])\n",
    "\n",
    "df_Newtest[num_vars] = scaler.fit_transform(df_Newtest[num_vars])"
   ]
  },
  {
   "cell_type": "code",
   "execution_count": 28,
   "id": "bae360cb",
   "metadata": {},
   "outputs": [
    {
     "data": {
      "text/html": [
       "<div>\n",
       "<style scoped>\n",
       "    .dataframe tbody tr th:only-of-type {\n",
       "        vertical-align: middle;\n",
       "    }\n",
       "\n",
       "    .dataframe tbody tr th {\n",
       "        vertical-align: top;\n",
       "    }\n",
       "\n",
       "    .dataframe thead th {\n",
       "        text-align: right;\n",
       "    }\n",
       "</style>\n",
       "<table border=\"1\" class=\"dataframe\">\n",
       "  <thead>\n",
       "    <tr style=\"text-align: right;\">\n",
       "      <th></th>\n",
       "      <th>area</th>\n",
       "      <th>bedrooms</th>\n",
       "      <th>bathrooms</th>\n",
       "      <th>stories</th>\n",
       "      <th>parking</th>\n",
       "      <th>price</th>\n",
       "    </tr>\n",
       "  </thead>\n",
       "  <tbody>\n",
       "    <tr>\n",
       "      <th>454</th>\n",
       "      <td>0.193548</td>\n",
       "      <td>0.5</td>\n",
       "      <td>0.0</td>\n",
       "      <td>0.333333</td>\n",
       "      <td>0.0</td>\n",
       "      <td>0.120606</td>\n",
       "    </tr>\n",
       "    <tr>\n",
       "      <th>392</th>\n",
       "      <td>0.156495</td>\n",
       "      <td>0.5</td>\n",
       "      <td>0.0</td>\n",
       "      <td>0.333333</td>\n",
       "      <td>0.0</td>\n",
       "      <td>0.151515</td>\n",
       "    </tr>\n",
       "    <tr>\n",
       "      <th>231</th>\n",
       "      <td>0.180471</td>\n",
       "      <td>0.5</td>\n",
       "      <td>0.0</td>\n",
       "      <td>0.000000</td>\n",
       "      <td>0.0</td>\n",
       "      <td>0.254545</td>\n",
       "    </tr>\n",
       "    <tr>\n",
       "      <th>271</th>\n",
       "      <td>0.005013</td>\n",
       "      <td>1.0</td>\n",
       "      <td>0.0</td>\n",
       "      <td>0.333333</td>\n",
       "      <td>0.0</td>\n",
       "      <td>0.224242</td>\n",
       "    </tr>\n",
       "    <tr>\n",
       "      <th>250</th>\n",
       "      <td>0.121622</td>\n",
       "      <td>0.5</td>\n",
       "      <td>0.0</td>\n",
       "      <td>0.666667</td>\n",
       "      <td>0.0</td>\n",
       "      <td>0.239394</td>\n",
       "    </tr>\n",
       "  </tbody>\n",
       "</table>\n",
       "</div>"
      ],
      "text/plain": [
       "         area  bedrooms  bathrooms   stories  parking     price\n",
       "454  0.193548       0.5        0.0  0.333333      0.0  0.120606\n",
       "392  0.156495       0.5        0.0  0.333333      0.0  0.151515\n",
       "231  0.180471       0.5        0.0  0.000000      0.0  0.254545\n",
       "271  0.005013       1.0        0.0  0.333333      0.0  0.224242\n",
       "250  0.121622       0.5        0.0  0.666667      0.0  0.239394"
      ]
     },
     "execution_count": 28,
     "metadata": {},
     "output_type": "execute_result"
    }
   ],
   "source": [
    "df_Newtrain.head()"
   ]
  },
  {
   "cell_type": "code",
   "execution_count": 29,
   "id": "46cb341c",
   "metadata": {},
   "outputs": [],
   "source": [
    "price = df_Newtrain.pop('price')\n",
    "X = np.hstack((X_0, df_Newtrain))\n",
    "price_f = df_Newtest.pop('price')\n",
    "X_f = np.hstack((X_0f, df_Newtest))"
   ]
  },
  {
   "cell_type": "code",
   "execution_count": 30,
   "id": "b39e554c",
   "metadata": {},
   "outputs": [],
   "source": [
    "theta = [0. ,0. ,0. ,0. ,0. ,0.]\n",
    "iterations = 1500; \n",
    "alpha = 0.001; #small learning rate becuase we have no normailziation or standardiztion"
   ]
  },
  {
   "cell_type": "code",
   "execution_count": 31,
   "id": "19de82d3",
   "metadata": {},
   "outputs": [
    {
     "name": "stdout",
     "output_type": "stream",
     "text": [
      "Final value of theta =  [0.15059284 0.05066417 0.08449171 0.04399035 0.06174756 0.05505598]\n",
      "Final Cost =  0.009755914430499115\n",
      "[0.02444892 0.02439873 0.02434869 ... 0.00557905 0.00557759 0.00557614]\n"
     ]
    }
   ],
   "source": [
    "theta, cost_history, cost_history2 = gradient_descent(X, price, theta, alpha, iterations, X_f, price_f)\n",
    "print ('Final value of theta = ', theta)\n",
    "print('Final Cost = ', cost_history[-1])\n",
    "\n",
    "print(cost_history2)"
   ]
  },
  {
   "cell_type": "code",
   "execution_count": 32,
   "id": "5165b6ce",
   "metadata": {},
   "outputs": [
    {
     "data": {
      "text/plain": [
       "Text(0.5, 1.0, 'Convergence of gradient descent')"
      ]
     },
     "execution_count": 32,
     "metadata": {},
     "output_type": "execute_result"
    },
    {
     "data": {
      "image/png": "[encoded data removed]",
      "text/plain": [
       "<Figure size 720x432 with 1 Axes>"
      ]
     },
     "metadata": {
      "needs_background": "light"
     },
     "output_type": "display_data"
    }
   ],
   "source": [
    "plt.plot(range(1, iterations+1), cost_history, color='blue')\n",
    "plt.plot(range(1, iterations+1), cost_history2, color='green')\n",
    "plt.rcParams[\"figure.figsize\"] = (10,6)\n",
    "plt.grid()\n",
    "plt.xlabel('Number of iterations')\n",
    "plt.ylabel('Cost (J)')\n",
    "plt.title('Convergence of gradient descent')"
   ]
  },
  {
   "cell_type": "code",
   "execution_count": 33,
   "id": "6ff7f131",
   "metadata": {},
   "outputs": [],
   "source": [
    "#Tthe cost is less than 0.01 compared to over a trillion\n",
    "#Calling this a night and day difference"
   ]
  },
  {
   "cell_type": "code",
   "execution_count": 34,
   "id": "8c049b27",
   "metadata": {},
   "outputs": [],
   "source": [
    "#Standardization"
   ]
  },
  {
   "cell_type": "code",
   "execution_count": 35,
   "id": "31b90cfe",
   "metadata": {},
   "outputs": [],
   "source": [
    "df_Newtrain = df_train[num_vars]\n",
    "df_Newtest = df_test[num_vars]"
   ]
  },
  {
   "cell_type": "code",
   "execution_count": 36,
   "id": "5dc1bd6e",
   "metadata": {},
   "outputs": [],
   "source": [
    "#define standard scaler for normalization\n",
    "scaler = MinMaxScaler()\n",
    "df_Newtrain[num_vars] = scaler.fit_transform(df_Newtrain[num_vars])\n",
    "\n",
    "df_Newtest[num_vars] = scaler.fit_transform(df_Newtest[num_vars])"
   ]
  },
  {
   "cell_type": "code",
   "execution_count": 37,
   "id": "dd14fc6b",
   "metadata": {},
   "outputs": [
    {
     "data": {
      "text/html": [
       "<div>\n",
       "<style scoped>\n",
       "    .dataframe tbody tr th:only-of-type {\n",
       "        vertical-align: middle;\n",
       "    }\n",
       "\n",
       "    .dataframe tbody tr th {\n",
       "        vertical-align: top;\n",
       "    }\n",
       "\n",
       "    .dataframe thead th {\n",
       "        text-align: right;\n",
       "    }\n",
       "</style>\n",
       "<table border=\"1\" class=\"dataframe\">\n",
       "  <thead>\n",
       "    <tr style=\"text-align: right;\">\n",
       "      <th></th>\n",
       "      <th>area</th>\n",
       "      <th>bedrooms</th>\n",
       "      <th>bathrooms</th>\n",
       "      <th>stories</th>\n",
       "      <th>parking</th>\n",
       "      <th>price</th>\n",
       "    </tr>\n",
       "  </thead>\n",
       "  <tbody>\n",
       "    <tr>\n",
       "      <th>454</th>\n",
       "      <td>0.193548</td>\n",
       "      <td>0.5</td>\n",
       "      <td>0.0</td>\n",
       "      <td>0.333333</td>\n",
       "      <td>0.0</td>\n",
       "      <td>0.120606</td>\n",
       "    </tr>\n",
       "    <tr>\n",
       "      <th>392</th>\n",
       "      <td>0.156495</td>\n",
       "      <td>0.5</td>\n",
       "      <td>0.0</td>\n",
       "      <td>0.333333</td>\n",
       "      <td>0.0</td>\n",
       "      <td>0.151515</td>\n",
       "    </tr>\n",
       "    <tr>\n",
       "      <th>231</th>\n",
       "      <td>0.180471</td>\n",
       "      <td>0.5</td>\n",
       "      <td>0.0</td>\n",
       "      <td>0.000000</td>\n",
       "      <td>0.0</td>\n",
       "      <td>0.254545</td>\n",
       "    </tr>\n",
       "    <tr>\n",
       "      <th>271</th>\n",
       "      <td>0.005013</td>\n",
       "      <td>1.0</td>\n",
       "      <td>0.0</td>\n",
       "      <td>0.333333</td>\n",
       "      <td>0.0</td>\n",
       "      <td>0.224242</td>\n",
       "    </tr>\n",
       "    <tr>\n",
       "      <th>250</th>\n",
       "      <td>0.121622</td>\n",
       "      <td>0.5</td>\n",
       "      <td>0.0</td>\n",
       "      <td>0.666667</td>\n",
       "      <td>0.0</td>\n",
       "      <td>0.239394</td>\n",
       "    </tr>\n",
       "  </tbody>\n",
       "</table>\n",
       "</div>"
      ],
      "text/plain": [
       "         area  bedrooms  bathrooms   stories  parking     price\n",
       "454  0.193548       0.5        0.0  0.333333      0.0  0.120606\n",
       "392  0.156495       0.5        0.0  0.333333      0.0  0.151515\n",
       "231  0.180471       0.5        0.0  0.000000      0.0  0.254545\n",
       "271  0.005013       1.0        0.0  0.333333      0.0  0.224242\n",
       "250  0.121622       0.5        0.0  0.666667      0.0  0.239394"
      ]
     },
     "execution_count": 37,
     "metadata": {},
     "output_type": "execute_result"
    }
   ],
   "source": [
    "df_Newtrain.head()"
   ]
  },
  {
   "cell_type": "code",
   "execution_count": 38,
   "id": "2251c75b",
   "metadata": {},
   "outputs": [],
   "source": [
    "price = df_Newtrain.pop('price')\n",
    "X = np.hstack((X_0, df_Newtrain)) #Value for problem 2 part A linear regression\n",
    "price_f = df_Newtest.pop('price')\n",
    "X_f = np.hstack((X_0f, df_Newtest))"
   ]
  },
  {
   "cell_type": "code",
   "execution_count": 39,
   "id": "d60ae990",
   "metadata": {},
   "outputs": [],
   "source": [
    "theta = [0. ,0. ,0. ,0. ,0. ,0.]\n",
    "iterations = 1500; \n",
    "alpha = 0.01; #small learning rate becuase we have no normailziation or standardiztion"
   ]
  },
  {
   "cell_type": "code",
   "execution_count": 40,
   "id": "cbf27da0",
   "metadata": {},
   "outputs": [
    {
     "name": "stdout",
     "output_type": "stream",
     "text": [
      "Final value of theta =  [0.10137906 0.13740117 0.10065887 0.14089579 0.1252165  0.1155093 ]\n",
      "Final Cost =  0.007160294225799279\n"
     ]
    }
   ],
   "source": [
    "theta, cost_history, cost_history2 = gradient_descent(X, price, theta, alpha, iterations, X_f, price_f)\n",
    "print ('Final value of theta = ', theta)\n",
    "print('Final Cost = ', cost_history[-1])"
   ]
  },
  {
   "cell_type": "code",
   "execution_count": 41,
   "id": "f7e82ddc",
   "metadata": {},
   "outputs": [
    {
     "data": {
      "text/plain": [
       "Text(0.5, 1.0, 'Convergence of gradient descent')"
      ]
     },
     "execution_count": 41,
     "metadata": {},
     "output_type": "execute_result"
    },
    {
     "data": {
      "image/png": "[encoded data removed]",
      "text/plain": [
       "<Figure size 720x432 with 1 Axes>"
      ]
     },
     "metadata": {
      "needs_background": "light"
     },
     "output_type": "display_data"
    }
   ],
   "source": [
    "plt.plot(range(1, iterations+1), cost_history, color='blue')\n",
    "plt.plot(range(1, iterations+1), cost_history2, color='green')\n",
    "plt.rcParams[\"figure.figsize\"] = (10,6)\n",
    "plt.grid()\n",
    "plt.xlabel('Number of iterations')\n",
    "plt.ylabel('Cost (J)')\n",
    "plt.title('Convergence of gradient descent')"
   ]
  },
  {
   "cell_type": "code",
   "execution_count": 42,
   "id": "bbf520ee",
   "metadata": {},
   "outputs": [],
   "source": [
    "# For standarization, it seems to be far less different than what is was orginizaly\n",
    "# it appears that the convergce is not close in the standarzation. Slightly lower \n",
    "# for both the traning and testing data set with nomrlaization"
   ]
  },
  {
   "cell_type": "code",
   "execution_count": 43,
   "id": "5ac650e5",
   "metadata": {},
   "outputs": [],
   "source": [
    "#Normalization"
   ]
  },
  {
   "cell_type": "code",
   "execution_count": 44,
   "id": "e2ec277f",
   "metadata": {},
   "outputs": [],
   "source": [
    "num_vars=['area','bedrooms','bathrooms','stories','mainroad','guestroom','basement','hotwaterheating','airconditioning','parking']\n",
    "df_Newtrain=df_train[num_vars]\n",
    "df_Newtest=df_test[num_vars]"
   ]
  },
  {
   "cell_type": "code",
   "execution_count": 45,
   "id": "07ba63c0-f427-4f32-aa9b-05e4598f519f",
   "metadata": {},
   "outputs": [],
   "source": [
    "import warnings\n",
    "warnings.filterwarnings('ignore')\n",
    "from sklearn.preprocessing import MinMaxScaler, StandardScaler"
   ]
  },
  {
   "cell_type": "code",
   "execution_count": 46,
   "id": "554637f6",
   "metadata": {},
   "outputs": [],
   "source": [
    "#define standard scaler for normalization\n",
    "scaler = MinMaxScaler()\n",
    "df_Newtrain[num_vars] = scaler.fit_transform(df_Newtrain[num_vars])\n",
    "\n",
    "df_Newtest[num_vars] = scaler.fit_transform(df_Newtest[num_vars])"
   ]
  },
  {
   "cell_type": "code",
   "execution_count": 47,
   "id": "75a0f557",
   "metadata": {},
   "outputs": [],
   "source": [
    "#define standard scaler for normalization\n",
    "scaler = MinMaxScaler()\n",
    "df_Newtrain[num_vars] = scaler.fit_transform(df_Newtrain[num_vars])\n",
    "\n",
    "df_Newtest[num_vars] = scaler.fit_transform(df_Newtest[num_vars])"
   ]
  },
  {
   "cell_type": "code",
   "execution_count": 48,
   "id": "7624feff",
   "metadata": {},
   "outputs": [],
   "source": [
    "theta = [0.,0.,0.,0.,0.,0.,0.,0.,0.,]\n",
    "iterations = 1500;\n",
    "alpha = 0.01; #small learning rate "
   ]
  },
  {
   "cell_type": "code",
   "execution_count": null,
   "id": "e84d2cf7-98d9-46bb-a402-7abafaa7d995",
   "metadata": {},
   "outputs": [],
   "source": []
  },
  {
   "cell_type": "code",
   "execution_count": 49,
   "id": "893604c3-8575-4849-b6ee-bb3c616ebfab",
   "metadata": {},
   "outputs": [],
   "source": [
    "#Standardization\n"
   ]
  },
  {
   "cell_type": "code",
   "execution_count": 50,
   "id": "b1ce120e-9373-47ab-b3e2-ff7214e89633",
   "metadata": {},
   "outputs": [],
   "source": [
    "df_Newtrain = df_train[num_vars]\n",
    "df_Newtest = df_test[num_vars]"
   ]
  },
  {
   "cell_type": "code",
   "execution_count": 51,
   "id": "12b1eaaa-1d95-49b1-9d90-49a575cd0904",
   "metadata": {},
   "outputs": [],
   "source": [
    "#define standard scaler for normalization\n",
    "scaler = MinMaxScaler()\n",
    "df_Newtrain[num_vars] = scaler.fit_transform(df_Newtrain[num_vars])\n",
    "\n",
    "df_Newtest[num_vars] = scaler.fit_transform(df_Newtest[num_vars])"
   ]
  },
  {
   "cell_type": "raw",
   "id": "679d2f54-6440-4df0-a9ad-8dab8d77b737",
   "metadata": {},
   "source": [
    "price = df_Newtrain.pop('price')\n",
    "X = np.hstack((X_0, df_Newtrain)) #Value for problem 2 part A linear regression\n",
    "price_f = df_Newtest.pop('price')\n",
    "X_f = np.hstack((X_0f, df_Newtest))"
   ]
  },
  {
   "cell_type": "code",
   "execution_count": 54,
   "id": "52aa7472-9e5e-49af-8c20-f0c5aeacd6fd",
   "metadata": {},
   "outputs": [],
   "source": [
    "theta = [0. ,0. ,0. ,0. ,0. ,0.,0.,0.,0.,0.,0.,0.]\n",
    "iterations = 1500; \n",
    "alpha = 0.01; #small learning rate becuase we have no normailziation or standardiztion"
   ]
  },
  {
   "cell_type": "raw",
   "id": "686d8418-3265-4705-8892-b697ac3a095d",
   "metadata": {},
   "source": [
    "theta, cost_history, cost_history2 = gradient_descent(X, price, theta, alpha, iterations, X_f, price_f)\n",
    "print ('Final value of theta = ', theta)\n",
    "print('Final Cost = ', cost_history[-1])"
   ]
  },
  {
   "cell_type": "code",
   "execution_count": 56,
   "id": "30ca062c-e8ed-4732-8481-e3f5b61ca032",
   "metadata": {},
   "outputs": [
    {
     "data": {
      "text/plain": [
       "Text(0.5, 1.0, 'Convergence of gradient descent')"
      ]
     },
     "execution_count": 56,
     "metadata": {},
     "output_type": "execute_result"
    },
    {
     "data": {
      "image/png": "[encoded data removed]",
      "text/plain": [
       "<Figure size 720x432 with 1 Axes>"
      ]
     },
     "metadata": {
      "needs_background": "light"
     },
     "output_type": "display_data"
    }
   ],
   "source": [
    "plt.plot(range(1, iterations+1), cost_history, color='blue')\n",
    "plt.plot(range(1, iterations+1), cost_history2, color='green')\n",
    "plt.rcParams[\"figure.figsize\"] = (10,6)\n",
    "plt.grid()\n",
    "plt.xlabel('Number of iterations')\n",
    "plt.ylabel('Cost (J)')\n",
    "plt.title('Convergence of gradient descent')"
   ]
  },
  {
   "cell_type": "code",
   "execution_count": 57,
   "id": "380fd0f5-d914-4dda-9eb5-560cc7d2f3dc",
   "metadata": {},
   "outputs": [],
   "source": [
    "#The cost model before  looks identical, as it has been unchaged due to the binary options"
   ]
  },
  {
   "cell_type": "code",
   "execution_count": 58,
   "id": "740ca211-0541-40ca-9648-198f7846f84f",
   "metadata": {},
   "outputs": [],
   "source": [
    "# Number 3 Part A"
   ]
  },
  {
   "cell_type": "code",
   "execution_count": 59,
   "id": "ecf6bf0b-54de-4f47-90c0-49e2d7d97a7c",
   "metadata": {},
   "outputs": [],
   "source": [
    "def compute_cost(X, y, theta):\n",
    "    \n",
    "    predictions = X.dot(theta)\n",
    "    errors = np.subtract(predictions)\n",
    "    sqrErrors = np.square(errors)\n",
    "    \n",
    "    penalty = 0.01\n",
    "    penMod = theta\n",
    "    penMod[0] = 0;\n",
    "    penMod = np.square(penalty)\n",
    "    penMod = np.sum(penMod, axis=0)\n",
    "    \n",
    "    J = 1/(2*m) * (np.sum(sqrErrors) + penalty*penMod)\n",
    "    \n",
    "    return J"
   ]
  },
  {
   "cell_type": "code",
   "execution_count": 60,
   "id": "fd3e503e-660d-4d6b-a0c7-99d35ff04deb",
   "metadata": {},
   "outputs": [],
   "source": [
    "num_vars=['area','bedrooms','bathrooms','stories','parking','price']\n",
    "df_Newtrain=df_train[num_vars]\n",
    "df_Newtest=df_test[num_vars]\n",
    "\n",
    "#define standard scaler for normalization\n",
    "scaler = MinMaxScaler()\n",
    "df_Newtrain[num_vars] = scaler.fit_transform(df_Newtrain[num_vars])\n",
    "\n",
    "df_Newtest[num_vars] = scaler.fit_transform(df_Newtest[num_vars])\n"
   ]
  },
  {
   "cell_type": "code",
   "execution_count": 61,
   "id": "34ecc41f-38cb-4221-b108-b8da5862b4fe",
   "metadata": {},
   "outputs": [],
   "source": [
    "price = df_Newtrain.pop('price')\n",
    "X = np.hstack((X_0, df_Newtrain))\n",
    "price_f = df_Newtest.pop('price')\n",
    "X_f = np.hstack((X_0f, df_Newtest))"
   ]
  },
  {
   "cell_type": "code",
   "execution_count": 62,
   "id": "ac233d51-5553-4bb0-b0da-bd1af355fbdd",
   "metadata": {},
   "outputs": [],
   "source": [
    "theta = [0. ,0. ,0. ,0. ,0. ,0.]\n",
    "iterations = 1500; \n",
    "alpha = 0.001; #small learning rate becuase we have no normailziation or standardiztion"
   ]
  },
  {
   "cell_type": "raw",
   "id": "f20d213d-3f83-4f59-be15-34b9f7275107",
   "metadata": {},
   "source": [
    "theta, cost_history, cost_history2 = gradient_descent(X, price, theta, alpha, iterations, X_f, price_f)\n",
    "print ('Final value of theta = ', theta)\n",
    "print('Final Cost = ', cost_history[-1])\n",
    "\n",
    "print(cost_history2)"
   ]
  },
  {
   "cell_type": "code",
   "execution_count": 64,
   "id": "dd4d011d-9641-4f55-b682-bab7fd0300df",
   "metadata": {},
   "outputs": [
    {
     "data": {
      "text/plain": [
       "Text(0.5, 1.0, 'Convergence of gradient descent')"
      ]
     },
     "execution_count": 64,
     "metadata": {},
     "output_type": "execute_result"
    },
    {
     "data": {
      "image/png": "[encoded data removed]",
      "text/plain": [
       "<Figure size 720x432 with 1 Axes>"
      ]
     },
     "metadata": {
      "needs_background": "light"
     },
     "output_type": "display_data"
    }
   ],
   "source": [
    "plt.plot(range(1, iterations+1), cost_history, color='blue')\n",
    "plt.plot(range(1, iterations+1), cost_history2, color='green')\n",
    "plt.rcParams[\"figure.figsize\"] = (10,6)\n",
    "plt.grid()\n",
    "plt.xlabel('Number of iterations')\n",
    "plt.ylabel('Cost (J)')\n",
    "plt.title('Convergence of gradient descent')"
   ]
  },
  {
   "cell_type": "code",
   "execution_count": 65,
   "id": "401ed3bd-f235-4eb9-90b5-399582cea1a7",
   "metadata": {},
   "outputs": [],
   "source": [
    "df_Newtrain = df_train[num_vars]\n",
    "df_Newtest = df_test[num_vars]\n",
    "#define standard scaler for normalization\n",
    "scaler = MinMaxScaler()\n",
    "df_Newtrain[num_vars] = scaler.fit_transform(df_Newtrain[num_vars])\n",
    "\n",
    "df_Newtest[num_vars] = scaler.fit_transform(df_Newtest[num_vars])\n",
    "\n",
    "price = df_Newtrain.pop('price')\n",
    "X = np.hstack((X_0, df_Newtrain)) #Value for problem 2 part A linear regression\n",
    "price_f = df_Newtest.pop('price')\n",
    "X_f = np.hstack((X_0f, df_Newtest))\n",
    "\n",
    "theta = [0. ,0. ,0. ,0. ,0. ,0.]\n",
    "iterations = 1500; \n",
    "alpha = 0.01; #small learning rate "
   ]
  },
  {
   "cell_type": "raw",
   "id": "978eeade-f6fe-41c8-b712-9c508d5503e3",
   "metadata": {},
   "source": [
    "theta, cost_history, cost_history2 = gradient_descent(X, price, theta, alpha, iterations, X_f, price_f)\n",
    "print ('Final value of theta = ', theta)\n",
    "print('Final Cost = ', cost_history[-1])"
   ]
  },
  {
   "cell_type": "code",
   "execution_count": 67,
   "id": "f734f37e-1d3f-43d5-8450-ed6129c6bb8b",
   "metadata": {},
   "outputs": [],
   "source": [
    "# The cost seems to be the same for both Standarsiztion and Normalization. The difference between the normlization test and training cost is smaller, but for stnadriszation it remianed the same "
   ]
  },
  {
   "cell_type": "code",
   "execution_count": 68,
   "id": "b0ae858e-50e6-4e83-8ab6-97276518b652",
   "metadata": {},
   "outputs": [],
   "source": [
    "#Problem 3 Part B"
   ]
  },
  {
   "cell_type": "code",
   "execution_count": 69,
   "id": "96b86796-4231-4647-b2d7-4847265ed395",
   "metadata": {},
   "outputs": [],
   "source": [
    "num_vars=['area','bedrooms','bathrooms','stories','mainroad','guestroom','basement','hotwaterheating','airconditioning','parking']\n",
    "df_Newtrain=df_train[num_vars]\n",
    "df_Newtest=df_test[num_vars]\n",
    "\n",
    "#define standard scaler for normalization\n",
    "scaler = MinMaxScaler()\n",
    "df_Newtrain[num_vars] = scaler.fit_transform(df_Newtrain[num_vars])\n",
    "\n",
    "df_Newtest[num_vars] = scaler.fit_transform(df_Newtest[num_vars])\n",
    "\n"
   ]
  },
  {
   "cell_type": "raw",
   "id": "60d9d5b6-719a-4696-aa88-ef9b02a5c757",
   "metadata": {},
   "source": [
    "theta, cost_history, cost_history2 = gradient_descent(X, price, theta, alpha, iterations, X_f, price_f)\n",
    "print ('Final value of theta = ', theta)\n",
    "print('Final Cost = ', cost_history[1])"
   ]
  },
  {
   "cell_type": "code",
   "execution_count": 71,
   "id": "0ed6e831-0db2-4e51-ac87-656dd88df4d9",
   "metadata": {},
   "outputs": [
    {
     "data": {
      "text/plain": [
       "Text(0.5, 1.0, 'Convergence of gradient descent')"
      ]
     },
     "execution_count": 71,
     "metadata": {},
     "output_type": "execute_result"
    },
    {
     "data": {
      "image/png": "[encoded data removed]",
      "text/plain": [
       "<Figure size 720x432 with 1 Axes>"
      ]
     },
     "metadata": {
      "needs_background": "light"
     },
     "output_type": "display_data"
    }
   ],
   "source": [
    "plt.plot(range(1, iterations+1), cost_history, color='blue')\n",
    "plt.plot(range(1, iterations+1), cost_history2, color='green')\n",
    "plt.rcParams[\"figure.figsize\"] = (10,6)\n",
    "plt.grid()\n",
    "plt.xlabel('Number of iterations')\n",
    "plt.ylabel('Cost (J)')\n",
    "plt.title('Convergence of gradient descent')"
   ]
  },
  {
   "cell_type": "code",
   "execution_count": 72,
   "id": "cbda3ebb-6208-4547-b412-73042e6996ee",
   "metadata": {},
   "outputs": [],
   "source": [
    "#Standardization"
   ]
  },
  {
   "cell_type": "raw",
   "id": "8dc4efac-7432-487e-a229-1be06557f7ef",
   "metadata": {},
   "source": [
    "df_Newtrain = df_train[num_vars]\n",
    "df_Newtest = df_test[num_vars]\n",
    "\n",
    "#define standard scaler for normalization\n",
    "scaler = MinMaxScaler()\n",
    "df_Newtrain[num_vars] = scaler.fit_transform(df_Newtrain[num_vars])\n",
    "\n",
    "df_Newtest[num_vars] = scaler.fit_transform(df_Newtest[num_vars])\n",
    "\n",
    "price = df_Newtrain.pop('price')\n",
    "X = np.hstack((X_0, df_Newtrain)) #Value for problem 2 part A linear regression\n",
    "price_f = df_Newtest.pop('price')\n",
    "X_f = np.hstack((X_0f, df_Newtest))"
   ]
  },
  {
   "cell_type": "code",
   "execution_count": 78,
   "id": "b47e3559-d0cc-44e7-b87d-8f5e7b3b00cc",
   "metadata": {},
   "outputs": [],
   "source": [
    "theta = [0. ,0. ,0. ,0. ,0. ,0.]\n",
    "iterations = 1500; \n",
    "alpha = 0.01; #small learning rate becuase we have no normailziation or standardiztion"
   ]
  },
  {
   "cell_type": "raw",
   "id": "7eff42b3-1cf2-48e3-8872-6becf715e8bb",
   "metadata": {},
   "source": [
    "theta, cost_history, cost_history2 = gradient_descent(X, price, theta, alpha, iterations, X_f, price_f)\n",
    "print ('Final value of theta = ', theta)\n",
    "print('Final Cost = ', cost_history[-1])"
   ]
  },
  {
   "cell_type": "code",
   "execution_count": 80,
   "id": "96c83e1c-aea2-43fe-ba31-08d994854e19",
   "metadata": {},
   "outputs": [
    {
     "data": {
      "text/plain": [
       "Text(0.5, 1.0, 'Convergence of gradient descent')"
      ]
     },
     "execution_count": 80,
     "metadata": {},
     "output_type": "execute_result"
    },
    {
     "data": {
      "image/png": "[encoded data removed]",
      "text/plain": [
       "<Figure size 720x432 with 1 Axes>"
      ]
     },
     "metadata": {
      "needs_background": "light"
     },
     "output_type": "display_data"
    }
   ],
   "source": [
    "plt.plot(range(1, iterations+1), cost_history, color='blue')\n",
    "plt.plot(range(1, iterations+1), cost_history2, color='green')\n",
    "plt.rcParams[\"figure.figsize\"] = (10,6)\n",
    "plt.grid()\n",
    "plt.xlabel('Number of iterations')\n",
    "plt.ylabel('Cost (J)')\n",
    "plt.title('Convergence of gradient descent')"
   ]
  },
  {
   "cell_type": "code",
   "execution_count": null,
   "id": "a3ea6184-e21c-490d-9eae-d1ac51e8a434",
   "metadata": {},
   "outputs": [],
   "source": []
  },
  {
   "cell_type": "code",
   "execution_count": null,
   "id": "b66a405a-f4e7-41fa-b96a-b05a2b24dede",
   "metadata": {},
   "outputs": [],
   "source": []
  },
  {
   "cell_type": "code",
   "execution_count": null,
   "id": "685299dd-f8a2-4265-b170-3689051e8332",
   "metadata": {},
   "outputs": [],
   "source": []
  }
 ],
 "metadata": {
  "kernelspec": {
   "display_name": "Python 3",
   "language": "python",
   "name": "python3"
  },
  "language_info": {
   "codemirror_mode": {
    "name": "ipython",
    "version": 3
   },
   "file_extension": ".py",
   "mimetype": "text/x-python",
   "name": "python",
   "nbconvert_exporter": "python",
   "pygments_lexer": "ipython3",
   "version": "3.8.8"
  }
 },
 "nbformat": 4,
 "nbformat_minor": 5
}
